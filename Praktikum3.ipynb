{
  "nbformat": 4,
  "nbformat_minor": 0,
  "metadata": {
    "colab": {
      "provenance": [],
      "authorship_tag": "ABX9TyPrpeoBxVrER9lhQMhIh1vf",
      "include_colab_link": true
    },
    "kernelspec": {
      "name": "python3",
      "display_name": "Python 3"
    },
    "language_info": {
      "name": "python"
    }
  },
  "cells": [
    {
      "cell_type": "markdown",
      "metadata": {
        "id": "view-in-github",
        "colab_type": "text"
      },
      "source": [
        "<a href=\"https://colab.research.google.com/github/acti12/2025_AlgoritmaDanPemrogaman-Pertemuan2/blob/main/Praktikum3.ipynb\" target=\"_parent\"><img src=\"https://colab.research.google.com/assets/colab-badge.svg\" alt=\"Open In Colab\"/></a>"
      ]
    },
    {
      "cell_type": "markdown",
      "source": [
        "# Praktikum 1 - If Sederhana"
      ],
      "metadata": {
        "id": "0UcsgOCR_ZYM"
      }
    },
    {
      "cell_type": "code",
      "source": [
        "nilai = int(input(\"Masukkan nilai ujian: \"))\n",
        "if nilai >= 60:\n",
        "  print(\"Anda LULUS\")"
      ],
      "metadata": {
        "colab": {
          "base_uri": "https://localhost:8080/"
        },
        "id": "VhHN4DvC_Ykd",
        "outputId": "2b7117c7-a2f9-4e8c-e7b4-54e5104b2f3a"
      },
      "execution_count": 4,
      "outputs": [
        {
          "output_type": "stream",
          "name": "stdout",
          "text": [
            "Masukkan nilai ujian: 70\n",
            "Anda LULUS\n"
          ]
        }
      ]
    },
    {
      "cell_type": "markdown",
      "source": [
        "# Praktikum 2 - If Else"
      ],
      "metadata": {
        "id": "Y4Vs0tE_-2WK"
      }
    },
    {
      "cell_type": "code",
      "source": [
        "nilai = int(input(\"Masukkan nilai ujian: \"))\n",
        "if nilai >= 60:\n",
        "  print(\"Anda LULUS\")\n",
        "else:\n",
        "  print(\"Anda TIDAK LULUS\")"
      ],
      "metadata": {
        "colab": {
          "base_uri": "https://localhost:8080/"
        },
        "id": "U9EJI4HR_3Pb",
        "outputId": "b5291edd-7f06-4875-8388-e913212bcef6"
      },
      "execution_count": 5,
      "outputs": [
        {
          "output_type": "stream",
          "name": "stdout",
          "text": [
            "Masukkan nilai ujian: 50\n",
            "Anda TIDAK LULUS\n"
          ]
        }
      ]
    },
    {
      "cell_type": "markdown",
      "source": [
        "# Praktikum 3 - If - Elif - Else"
      ],
      "metadata": {
        "id": "WcEm-WL6AJFB"
      }
    },
    {
      "cell_type": "code",
      "source": [
        "nilai = int(input(\"Masukkan nilai akhir: \"))\n",
        "\n",
        "if nilai >= 85:\n",
        " grade = \"A\"\n",
        "elif nilai >= 70:\n",
        " grade = \"B\"\n",
        "elif nilai >= 55:\n",
        " grade = \"C\"\n",
        "elif nilai >= 40:\n",
        " grade = \"D\"\n",
        "else:\n",
        " grade = \"E\"\n",
        "\n",
        "print(f\"Nilai Anda {nilai}, maka grade Anda = {grade}\")"
      ],
      "metadata": {
        "colab": {
          "base_uri": "https://localhost:8080/"
        },
        "id": "297t94t8G3dT",
        "outputId": "19d257d3-2b98-43b8-9a2a-817a8a4e110f"
      },
      "execution_count": 6,
      "outputs": [
        {
          "output_type": "stream",
          "name": "stdout",
          "text": [
            "Masukkan nilai akhir: 78\n",
            "Nilai Anda 78, maka grade Anda = B\n"
          ]
        }
      ]
    },
    {
      "cell_type": "markdown",
      "source": [
        "# Praktikum 4 - Nested If"
      ],
      "metadata": {
        "id": "l_IUDQezIOuY"
      }
    },
    {
      "cell_type": "code",
      "source": [
        "ipk = float(input(\"Masukkan IPK: \"))\n",
        "sks = int(input(\"Masukkan jumlah SKS: \"))\n",
        "\n",
        "if ipk >= 3.0:\n",
        "  if sks >= 18:\n",
        "    print(\"Anda LAYAK mendapat beasiswa\")\n",
        "  else:\n",
        "        print(\"IPK memenuhi, tapi SKS kurang\")\n",
        "else:\n",
        " print(\"Anda TIDAK layak mendapat beasiswa\")"
      ],
      "metadata": {
        "colab": {
          "base_uri": "https://localhost:8080/"
        },
        "id": "2RprcK1MIVlk",
        "outputId": "abd7ac31-428e-4410-91df-9d49d8d6c2ad"
      },
      "execution_count": 9,
      "outputs": [
        {
          "output_type": "stream",
          "name": "stdout",
          "text": [
            "Masukkan IPK: 2.8\n",
            "Masukkan jumlah SKS: 20\n",
            "Anda TIDAK layak mendapat beasiswa\n"
          ]
        }
      ]
    },
    {
      "cell_type": "markdown",
      "source": [
        "# Praktikum 5 - Match Case"
      ],
      "metadata": {
        "id": "p_hsUhVgJBvH"
      }
    },
    {
      "cell_type": "code",
      "source": [
        "menu = int(input(\"Pilih menu (1-3): \"))\n",
        "\n",
        "match menu:\n",
        "  case 1:\n",
        "   print(\"Anda memilih Nasi Goreng\")\n",
        "  case 2:\n",
        "    print(\"Anda memilih Mie Ayam\")\n",
        "  case 3:\n",
        "   print(\"Anda memilih Soto Ayam\")\n",
        "  case _:\n",
        "    print(\"Menu tidak tersedia\")"
      ],
      "metadata": {
        "colab": {
          "base_uri": "https://localhost:8080/"
        },
        "id": "1qM096JRJFh2",
        "outputId": "72995099-2ca6-4a4e-bae0-29e1e94cc04c"
      },
      "execution_count": 11,
      "outputs": [
        {
          "output_type": "stream",
          "name": "stdout",
          "text": [
            "Pilih menu (1-3): 9\n",
            "Menu tidak tersedia\n"
          ]
        }
      ]
    },
    {
      "cell_type": "markdown",
      "source": [
        "# Praktikum 6 - Studi Kasus: Program Kasir"
      ],
      "metadata": {
        "id": "kQZh88j4JeKr"
      }
    },
    {
      "cell_type": "code",
      "source": [
        "barang = input(\"Masukkan nama barang: \")\n",
        "harga = float(input(\"Masukkan harga barang: \"))\n",
        "jumlah = int(input(\"Masukkan jumlah barang: \"))\n",
        "\n",
        "total = harga * jumlah\n",
        "if total >= 500000:\n",
        "  diskon = 0.2\n",
        "elif total >= 250000:\n",
        " diskon = 0.1\n",
        "else:\n",
        "   diskon = 0\n",
        "bayar = total - (total * diskon)\n",
        "\n",
        "print(\"\\n===== Struk Belanja =====\")\n",
        "print(f\"Barang : {barang}\")\n",
        "print(f\"Jumlah : {jumlah}\")\n",
        "print(f\"Total : Rp {total}\")\n",
        "print(f\"Diskon : {diskon*100}%\")\n",
        "print(f\"Bayar : Rp {bayar}\")"
      ],
      "metadata": {
        "colab": {
          "base_uri": "https://localhost:8080/"
        },
        "id": "hq4lBmuQJkaV",
        "outputId": "18eb6c8e-cc30-4264-cc18-1318b59dd45a"
      },
      "execution_count": 14,
      "outputs": [
        {
          "output_type": "stream",
          "name": "stdout",
          "text": [
            "Masukkan nama barang: Pulpen\n",
            "Masukkan harga barang: 5000\n",
            "Masukkan jumlah barang: 10\n",
            "\n",
            "===== Struk Belanja =====\n",
            "Barang : Pulpen\n",
            "Jumlah : 10\n",
            "Total : Rp 50000.0\n",
            "Diskon : 0%\n",
            "Bayar : Rp 50000.0\n"
          ]
        }
      ]
    },
    {
      "cell_type": "markdown",
      "source": [
        "# Penugasan 1 - Cek Bilangan Positif/Negatif/Nol"
      ],
      "metadata": {
        "id": "5UzRaKaAKs2M"
      }
    },
    {
      "cell_type": "code",
      "source": [
        "bilangan = int(input(\"Masukkan sebuah bilangan: \"))\n",
        "\n",
        "if bilangan > 0:\n",
        "    print(\"Bilangan tersebut adalah POSITIF.\")\n",
        "elif bilangan < 0:\n",
        "    print(\"Bilangan tersebut adalah NEGATIF.\")\n",
        "else:\n",
        "    print(\"Bilangan tersebut adalah NOL.\")\n",
        "print()"
      ],
      "metadata": {
        "colab": {
          "base_uri": "https://localhost:8080/"
        },
        "id": "KAHB1grHKw3p",
        "outputId": "153c2231-c042-4251-8ee0-4a9cb69c34d9"
      },
      "execution_count": 15,
      "outputs": [
        {
          "output_type": "stream",
          "name": "stdout",
          "text": [
            "Masukkan sebuah bilangan: -12\n",
            "Bilangan tersebut adalah NEGATIF.\n",
            "\n"
          ]
        }
      ]
    },
    {
      "cell_type": "markdown",
      "source": [
        "# Penugasan 2 - Menentukan Kategori Usia"
      ],
      "metadata": {
        "id": "5UWTjneZLFHT"
      }
    },
    {
      "cell_type": "code",
      "source": [
        "umur = int(input(\"Masukkan umur: \"))\n",
        "\n",
        "if umur < 5:\n",
        "    kategori = \"Balita\"\n",
        "elif umur <= 11:\n",
        "    kategori = \"Anak-anak\"\n",
        "elif umur <= 17:\n",
        "    kategori = \"Remaja\"\n",
        "elif umur <= 59:\n",
        "    kategori = \"Dewasa\"\n",
        "else:\n",
        "    kategori = \"Lansia\"\n",
        "\n",
        "print(f\"Kategori usia: {kategori}\")\n",
        "print()"
      ],
      "metadata": {
        "colab": {
          "base_uri": "https://localhost:8080/"
        },
        "id": "LQH16MUmLLBM",
        "outputId": "c7fc885b-285b-4042-cccf-9550190a9429"
      },
      "execution_count": 16,
      "outputs": [
        {
          "output_type": "stream",
          "name": "stdout",
          "text": [
            "Masukkan umur: 34\n",
            "Kategori usia: Dewasa\n",
            "\n"
          ]
        }
      ]
    },
    {
      "cell_type": "markdown",
      "source": [
        "# Penugasan 3 - Hitung Tarif Parkir"
      ],
      "metadata": {
        "id": "5-QGwqMKLSZ8"
      }
    },
    {
      "cell_type": "code",
      "source": [
        "lama_parkir = int(input(\"Masukkan lama parkir (jam): \"))\n",
        "\n",
        "if lama_parkir <= 2:\n",
        "    tarif = 5000\n",
        "elif lama_parkir > 2:\n",
        "    tarif = 5000 + (lama_parkir - 2) * 2000\n",
        "\n",
        "# Batasi tarif maksimal\n",
        "if tarif > 20000:\n",
        "    tarif = 20000\n",
        "\n",
        "print(f\"Tarif parkir: Rp {tarif}\")\n",
        "print()"
      ],
      "metadata": {
        "colab": {
          "base_uri": "https://localhost:8080/"
        },
        "id": "BR8sHGo9LWyO",
        "outputId": "dbc76d28-335f-44f5-9aaa-51e02b48be4c"
      },
      "execution_count": 17,
      "outputs": [
        {
          "output_type": "stream",
          "name": "stdout",
          "text": [
            "Masukkan lama parkir (jam): 3\n",
            "Tarif parkir: Rp 7000\n",
            "\n"
          ]
        }
      ]
    },
    {
      "cell_type": "markdown",
      "source": [
        "# Penugasan 4 - Cek Login Sederhana"
      ],
      "metadata": {
        "id": "ORDJ_DToLdpm"
      }
    },
    {
      "cell_type": "code",
      "source": [
        "username = input(\"Masukkan username: \")\n",
        "password = input(\"Masukkan password: \")\n",
        "\n",
        "if username == \"admin\" and password == \"1234\":\n",
        "    print(\"Login berhasil!\")\n",
        "else:\n",
        "    print(\"Login gagal.\")\n",
        "print()\n"
      ],
      "metadata": {
        "colab": {
          "base_uri": "https://localhost:8080/"
        },
        "id": "MpfWmxq3Lg_v",
        "outputId": "79d222ba-40f2-41a9-a70c-d78ca41593df"
      },
      "execution_count": 19,
      "outputs": [
        {
          "output_type": "stream",
          "name": "stdout",
          "text": [
            "Masukkan username: admin\n",
            "Masukkan password: 1234\n",
            "Login berhasil!\n",
            "\n"
          ]
        }
      ]
    },
    {
      "cell_type": "markdown",
      "source": [
        "# Penugasan 5 - One-Liner If (Cek Genap / Ganjil )"
      ],
      "metadata": {
        "id": "IvKdSNXrLoe1"
      }
    },
    {
      "cell_type": "code",
      "source": [
        "bilangan = int(input(\"Masukkan sebuah bilangan: \"))\n",
        "print(\"Bilangan Genap\" if bilangan % 2 == 0 else \"Bilangan Ganjil\")\n",
        "print()\n"
      ],
      "metadata": {
        "colab": {
          "base_uri": "https://localhost:8080/"
        },
        "id": "PWkyOrLALxc0",
        "outputId": "442eb68d-34dd-4423-ef7b-5539ca934be0"
      },
      "execution_count": 20,
      "outputs": [
        {
          "output_type": "stream",
          "name": "stdout",
          "text": [
            "Masukkan sebuah bilangan: 23\n",
            "Bilangan Ganjil\n",
            "\n"
          ]
        }
      ]
    },
    {
      "cell_type": "markdown",
      "source": [
        "# Penugasan 6 - Menu Restoran Dengan Match-Case"
      ],
      "metadata": {
        "id": "_WUjyfpyL2rQ"
      }
    },
    {
      "cell_type": "code",
      "source": [
        "print(\"=== Menu Restoran ===\")\n",
        "print(\"1. Nasi Goreng\")\n",
        "print(\"2. Mie Ayam\")\n",
        "print(\"3. Soto Ayam\")\n",
        "\n",
        "pilihan = int(input(\"Masukkan nomor menu pilihan: \"))\n",
        "\n",
        "match pilihan:\n",
        "    case 1:\n",
        "        print(\"Anda memilih Nasi Goreng.\")\n",
        "    case 2:\n",
        "        print(\"Anda memilih Mie Ayam.\")\n",
        "    case 3:\n",
        "        print(\"Anda memilih Soto Ayam.\")\n",
        "    case _:\n",
        "        print(\"Menu tidak tersedia.\")\n",
        "print()\n"
      ],
      "metadata": {
        "colab": {
          "base_uri": "https://localhost:8080/"
        },
        "id": "SV0SSz9cL65K",
        "outputId": "0bc65c4c-4b03-415e-d5b1-86985caff2f9"
      },
      "execution_count": 21,
      "outputs": [
        {
          "output_type": "stream",
          "name": "stdout",
          "text": [
            "=== Menu Restoran ===\n",
            "1. Nasi Goreng\n",
            "2. Mie Ayam\n",
            "3. Soto Ayam\n",
            "Masukkan nomor menu pilihan: 1\n",
            "Anda memilih Nasi Goreng.\n",
            "\n"
          ]
        }
      ]
    },
    {
      "cell_type": "markdown",
      "source": [
        "# Penugasan 7 - Studi Kasus Nyata - Program Penentuan Diskon"
      ],
      "metadata": {
        "id": "vvc7JLN9MBgW"
      }
    },
    {
      "cell_type": "code",
      "source": [
        "nama_barang = input(\"Masukkan nama barang: \")\n",
        "jumlah = int(input(\"Masukkan jumlah barang: \"))\n",
        "harga = float(input(\"Masukkan harga per barang: \"))\n",
        "\n",
        "total = jumlah * harga\n",
        "\n",
        "# Tentukan diskon berdasarkan total\n",
        "if total >= 500000:\n",
        "    diskon = 0.20\n",
        "elif total >= 250000:\n",
        "    diskon = 0.10\n",
        "else:\n",
        "    diskon = 0.0\n",
        "\n",
        "jumlah_diskon = total * diskon\n",
        "total_bayar = total - jumlah_diskon\n",
        "\n",
        "# Tampilkan struk belanja\n",
        "print(\"\\n=== STRUK BELANJA ===\")\n",
        "print(f\"Nama Barang : {nama_barang}\")\n",
        "print(f\"Jumlah      : {jumlah}\")\n",
        "print(f\"Harga       : Rp {harga:,.0f}\")\n",
        "print(f\"Total       : Rp {total:,.0f}\")\n",
        "print(f\"Diskon      : {diskon*100:.0f}%\")\n",
        "print(f\"Potongan    : Rp {jumlah_diskon:,.0f}\")\n",
        "print(f\"Total Bayar : Rp {total_bayar:,.0f}\")\n",
        "print(\"======================\\n\")\n"
      ],
      "metadata": {
        "colab": {
          "base_uri": "https://localhost:8080/"
        },
        "id": "HWCaALTbMJPz",
        "outputId": "a1597d66-d952-463b-c080-524cee108c06"
      },
      "execution_count": 22,
      "outputs": [
        {
          "output_type": "stream",
          "name": "stdout",
          "text": [
            "Masukkan nama barang: Logitech G102 LightSync Mouse Gaming\n",
            "Masukkan jumlah barang: 1\n",
            "Masukkan harga per barang: 250000\n",
            "\n",
            "=== STRUK BELANJA ===\n",
            "Nama Barang : Logitech G102 LightSync Mouse Gaming\n",
            "Jumlah      : 1\n",
            "Harga       : Rp 250,000\n",
            "Total       : Rp 250,000\n",
            "Diskon      : 10%\n",
            "Potongan    : Rp 25,000\n",
            "Total Bayar : Rp 225,000\n",
            "======================\n",
            "\n"
          ]
        }
      ]
    }
  ]
}