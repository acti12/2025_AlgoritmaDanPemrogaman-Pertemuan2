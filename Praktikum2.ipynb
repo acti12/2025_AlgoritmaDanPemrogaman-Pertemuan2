{
  "nbformat": 4,
  "nbformat_minor": 0,
  "metadata": {
    "colab": {
      "provenance": [],
      "authorship_tag": "ABX9TyNaAgAycVDRB/ZBzEAUK6en",
      "include_colab_link": true
    },
    "kernelspec": {
      "name": "python3",
      "display_name": "Python 3"
    },
    "language_info": {
      "name": "python"
    }
  },
  "cells": [
    {
      "cell_type": "markdown",
      "metadata": {
        "id": "view-in-github",
        "colab_type": "text"
      },
      "source": [
        "<a href=\"https://colab.research.google.com/github/acti12/2025_AlgoritmaDanPemrogaman-Pertemuan2/blob/main/Praktikum2.ipynb\" target=\"_parent\"><img src=\"https://colab.research.google.com/assets/colab-badge.svg\" alt=\"Open In Colab\"/></a>"
      ]
    },
    {
      "cell_type": "markdown",
      "source": [
        "#Praktikum 1 - Pengenalan Variable dan Tipe Data"
      ],
      "metadata": {
        "id": "g01QfeSLfPTq"
      }
    },
    {
      "cell_type": "code",
      "source": [
        "# Integer\n",
        "umur = 20\n",
        "print(\"Umur: \", umur, \"→\", type (umur))\n",
        "\n",
        "# Float\n",
        "tinggi = 170.5\n",
        "print(\"Tinggi:\", tinggi, \"→\", type(tinggi))\n",
        "\n",
        "#String\n",
        "nama = \"Andi\"\n",
        "print(\"Nama:\", nama, \"→\", type(nama))\n",
        "\n",
        "# Boolean\n",
        "is_mahasiswa = True\n",
        "print(\"Status Mahasiswa:\", is_mahasiswa, \"→\", type(is_mahasiswa))\n",
        "\n",
        "# List\n",
        "nilai = [80, 85, 90]\n",
        "print(\"Nilai:\", nilai, \"→\", type(nilai))\n",
        "\n",
        "\n",
        "# Tuple\n",
        "koordinat = (10, 20)\n",
        "print(\"Koordinat:\", koordinat, \"→\", type(koordinat))\n",
        "\n",
        "# Dictionary\n",
        "mahasiswa = {\"nama\": \"Andi\", \"umur\": 20, \"prodi\": \"TRK\"}\n",
        "print(\"Data Mahasiswa:\", mahasiswa, \"→\", type(mahasiswa))\n",
        "\n",
        "# Set\n",
        "hobi = {\"membaca\", \"olahraga\", \"musik\"}\n",
        "print (\"Hobi:\", hobi, \"→\", type(hobi))"
      ],
      "metadata": {
        "id": "qcL63nHwfpIa",
        "colab": {
          "base_uri": "https://localhost:8080/"
        },
        "outputId": "d738d867-08af-4490-fce6-3e9efd1e57b8"
      },
      "execution_count": null,
      "outputs": [
        {
          "output_type": "stream",
          "name": "stdout",
          "text": [
            "Umur:  20 → <class 'int'>\n",
            "Tinggi: 170.5 → <class 'float'>\n",
            "Nama: Andi → <class 'str'>\n",
            "Status Mahasiswa: True → <class 'bool'>\n",
            "Nilai: [80, 85, 90] → <class 'list'>\n",
            "Koordinat: (10, 20) → <class 'tuple'>\n",
            "Data Mahasiswa: {'nama': 'Andi', 'umur': 20, 'prodi': 'TRK'} → <class 'dict'>\n",
            "Hobi: {'membaca', 'musik', 'olahraga'} → <class 'set'>\n"
          ]
        }
      ]
    },
    {
      "cell_type": "markdown",
      "source": [
        "# Praktikum 2 - Input dan Output Dasar"
      ],
      "metadata": {
        "id": "OZqx4YLhciHE"
      }
    },
    {
      "cell_type": "code",
      "source": [
        "# Input string\n",
        "nama = input(\"Masukkan nama Anda: \")\n",
        "\n",
        "# Input integer\n",
        "umur = int(input(\"Masukkan umur Anda: \"))\n",
        "\n",
        "# Input float\n",
        "tinggi = float(input(\"Masukkan tinggi badan (cm) : \"))\n",
        "\n",
        "# Output standar\n",
        "print(\"Halo,\", nama, \"umur Anda:\", umur, \"tahun, tinggi:\", tinggi, \"cm\")\n",
        "\n",
        "# Output dengan format ()\n",
        "print(\"Halo {0}, umur Anda {1}, tahun, tinggi {2} cm\".format(nama, umur, tinggi))\n",
        "\n",
        "# Output dengan f-string\n",
        "print(f\"Halo {nama}, umur Anda {umur} tahun, tinggi {tinggi} cm\")"
      ],
      "metadata": {
        "colab": {
          "base_uri": "https://localhost:8080/"
        },
        "id": "OJQiNTy_fiap",
        "outputId": "7138e077-fe24-4ffc-84ef-79204b3aab11"
      },
      "execution_count": null,
      "outputs": [
        {
          "output_type": "stream",
          "name": "stdout",
          "text": [
            "Masukkan nama Anda: Rafael\n",
            "Masukkan umur Anda: 19\n",
            "Masukkan tinggi badan (cm) : 180\n",
            "Halo, Rafael umur Anda: 19 tahun, tinggi: 180.0 cm\n",
            "Halo Rafael, umur Anda 19, tahun, tinggi 180.0 cm\n",
            "Halo Rafael, umur Anda 19 tahun, tinggi 180.0 cm\n"
          ]
        }
      ]
    },
    {
      "cell_type": "markdown",
      "source": [
        "# Praktikum 03 - Operator Aritmatika"
      ],
      "metadata": {
        "id": "VlhRSscAgk02"
      }
    },
    {
      "cell_type": "code",
      "source": [
        "a = 15\n",
        "b = 14\n",
        "\n",
        "print(\"a + b =\", a + b)\n",
        "print(\"a - b =\", a - b)\n",
        "print(\"a * b =\", a * b)\n",
        "print(\"a / b =\", a / b)\n",
        "print(\"a // b =\", a // b)\n",
        "print(\"a % b =\", a % b)\n",
        "print(\"a ** b =\", a ** b)\n",
        "# Hasil program menunjukkan bahwa Python mampu melakukan perhitungan dasar\n",
        "# dengan operator yang sederhana dan intuitif."
      ],
      "metadata": {
        "colab": {
          "base_uri": "https://localhost:8080/"
        },
        "id": "Ek1Rt1U0grHw",
        "outputId": "b570e318-6bfa-4f9e-ae78-3adf25ce2bfe"
      },
      "execution_count": null,
      "outputs": [
        {
          "output_type": "stream",
          "name": "stdout",
          "text": [
            "a + b = 29\n",
            "a - b = 1\n",
            "a * b = 210\n",
            "a / b = 1.0714285714285714\n",
            "a // b = 1\n",
            "a % b = 1\n",
            "a ** b = 29192926025390625\n"
          ]
        }
      ]
    },
    {
      "cell_type": "markdown",
      "source": [
        "# Praktikum 04 - Operator Relasional"
      ],
      "metadata": {
        "id": "BgwiibnNhIi2"
      }
    },
    {
      "cell_type": "code",
      "source": [
        "x = 10\n",
        "y = 20\n",
        "\n",
        "print(\"x == y:\", x == y)\n",
        "print(\"x != y\", x != y)\n",
        "print(\"x < y :\", x < y)\n",
        "print(\"x > y :\", x > y)\n",
        "print(\"x <= y :\", x <= y)\n",
        "print(\"x >= y :\", x >= y)\n",
        "# Dalam kehidupan nyata, operator relasional bisa dipakai untuk mengecek\n",
        "# apakah nilai ujian ≥ 60, atau apakah kehadiran mahasiswa memenuhi batas\n",
        "# minimal."
      ],
      "metadata": {
        "id": "RcRdlb2DhNHb",
        "colab": {
          "base_uri": "https://localhost:8080/"
        },
        "outputId": "efce717c-0e27-45bd-e5aa-54dce116d2d8"
      },
      "execution_count": 10,
      "outputs": [
        {
          "output_type": "stream",
          "name": "stdout",
          "text": [
            "x == y: False\n",
            "x != y True\n",
            "x < y : True\n",
            "x > y : False\n",
            "x <= y : True\n",
            "x >= y : False\n"
          ]
        }
      ]
    },
    {
      "cell_type": "markdown",
      "source": [
        "# Praktikum 05 - Operator Logika dengan Studi Kasus Nyata"
      ],
      "metadata": {
        "id": "Bo25PoxwhujS"
      }
    },
    {
      "cell_type": "code",
      "source": [
        "# Operator logika dasar\n",
        "a = True\n",
        "b = False\n",
        "print(\"a and b =\", a and b)\n",
        "print(\"a or b= \", a or b)\n",
        "print (\"not a  =\", not a)\n",
        "\n",
        "# Stidu kasus nyata: kelulusan\n",
        "nilai = int(input(\"Masukkan nilai ujian: \"))\n",
        "hadir = int(input(\"Masukkan jumlah kehadiran: \"))\n",
        "\n",
        "lulus_nilai = nilai >= 60\n",
        "lulus_hadir = hadir >= 12 # dari 16 pertemuan\n",
        "\n",
        "if lulus_nilai and lulus_hadir:\n",
        "  print(\"Status: LULUS\")\n",
        "else:\n",
        "  print(\"status: TIDAK LULUS\")"
      ],
      "metadata": {
        "colab": {
          "base_uri": "https://localhost:8080/"
        },
        "id": "3zmW0vXXhyv4",
        "outputId": "30a75168-9774-4721-d06a-284579014b4c"
      },
      "execution_count": null,
      "outputs": [
        {
          "output_type": "stream",
          "name": "stdout",
          "text": [
            "a and b = False\n",
            "a or b=  True\n",
            "not a  = False\n",
            "Masukkan nilai ujian: 75\n",
            "Masukkan jumlah kehadiran: 8\n",
            "status: TIDAK LULUS\n"
          ]
        }
      ]
    },
    {
      "cell_type": "markdown",
      "source": [
        "# Praktikum  06 - Program Kasir Sederhana"
      ],
      "metadata": {
        "id": "YhY-NiZuis9j"
      }
    },
    {
      "cell_type": "code",
      "source": [
        "barang = input(\"Masukkan nama barang: \")\n",
        "harga = float(input(\"Masukkan harga barang: \"))\n",
        "jumlah = int(input(\"Masukkan jumlah barang: \"))\n",
        "\n",
        "total = harga * jumlah\n",
        "# Aturan diskon\n",
        "if total >= 500000:\n",
        "  diskon = 0.2\n",
        "elif total >= 250000:\n",
        "  diskon = 0.1\n",
        "else:\n",
        "  diskon = 0\n",
        "\n",
        "potongan = total * diskon\n",
        "bayar = total - potongan\n",
        "\n",
        "print(\"\\n===== Struk Belanja ====\")\n",
        "print(f\"Barang : {barang}\")\n",
        "print(f\"Jumlah : {jumlah}\")\n",
        "print(f\"Total : Rp {total}\")\n",
        "print(f\"Diskon : {diskon * 100}%\")\n",
        "print(f\"Bayar :  Rp {bayar}\")"
      ],
      "metadata": {
        "colab": {
          "base_uri": "https://localhost:8080/"
        },
        "id": "SW-RKN07iwK9",
        "outputId": "fa246e54-a8e5-440f-de99-e6f92f3b3eda"
      },
      "execution_count": null,
      "outputs": [
        {
          "output_type": "stream",
          "name": "stdout",
          "text": [
            "Masukkan nama barang: Red Bull - Energy Drink\n",
            "Masukkan harga barang: 25000\n",
            "Masukkan jumlah barang: 12\n",
            "\n",
            "===== Struk Belanja ====\n",
            "Barang : Red Bull - Energy Drink\n",
            "Jumlah : 12\n",
            "Total : Rp 300000.0\n",
            "Diskon : 10.0%\n",
            "Bayar :  Rp 270000.0\n"
          ]
        }
      ]
    },
    {
      "cell_type": "markdown",
      "source": [
        "# Penugasan 1 -Identitas Mahasiswa"
      ],
      "metadata": {
        "id": "cTWP_3_Dj4cs"
      }
    },
    {
      "cell_type": "code",
      "source": [
        "# Menyimpan data ke dalam variabel\n",
        "nama = \"Rafael Marcello\"\n",
        "umur = 20\n",
        "tinggi = 175.5\n",
        "status_aktif = True\n",
        "\n",
        "# Menampilkan data dengan format rapi menggunakan f-string\n",
        "print(f\"=== Identitas Mahasiswa ===\")\n",
        "print(f\"Nama          : {nama}\")\n",
        "print(f\"Umur          : {umur} tahun\")\n",
        "print(f\"Tinggi Badan  : {tinggi} cm\")\n",
        "print(f\"Status Aktif  : {status_aktif}\")\n",
        "print()"
      ],
      "metadata": {
        "colab": {
          "base_uri": "https://localhost:8080/"
        },
        "id": "w7cSDXQ_4g_C",
        "outputId": "6730400f-a734-407d-d67f-139c9d85d120"
      },
      "execution_count": 1,
      "outputs": [
        {
          "output_type": "stream",
          "name": "stdout",
          "text": [
            "=== Identitas Mahasiswa ===\n",
            "Nama          : Rafael Marcello\n",
            "Umur          : 20 tahun\n",
            "Tinggi Badan  : 175.5 cm\n",
            "Status Aktif  : True\n",
            "\n"
          ]
        }
      ]
    },
    {
      "cell_type": "markdown",
      "source": [
        "# Penugasan 2 - Operasi Aritmatika"
      ],
      "metadata": {
        "id": "DhU0h6Ek4l_g"
      }
    },
    {
      "cell_type": "code",
      "source": [
        "# Meminta input dua bilangan dari pengguna\n",
        "a = int(input(\"Masukkan bilangan pertama: \"))\n",
        "b = int(input(\"Masukkan bilangan kedua: \"))\n",
        "\n",
        "# Menampilkan hasil operasi\n",
        "print(f\"\\n=== Hasil Operasi Aritmatika ===\")\n",
        "print(f\"Penjumlahan      : {a} + {b} = {a + b}\")\n",
        "print(f\"Pengurangan      : {a} - {b} = {a - b}\")\n",
        "print(f\"Perkalian        : {a} * {b} = {a * b}\")\n",
        "print(f\"Pembagian        : {a} / {b} = {a / b}\")\n",
        "print(f\"Sisa Bagi (mod)  : {a} % {b} = {a % b}\")\n",
        "print(f\"Perpangkatan     : {a} ** {b} = {a ** b}\")\n",
        "print()"
      ],
      "metadata": {
        "colab": {
          "base_uri": "https://localhost:8080/"
        },
        "id": "gTir8wCz45yj",
        "outputId": "a482bab2-3583-4d08-af99-06939a984a82"
      },
      "execution_count": 2,
      "outputs": [
        {
          "output_type": "stream",
          "name": "stdout",
          "text": [
            "Masukkan bilangan pertama: 12\n",
            "Masukkan bilangan kedua: 24\n",
            "\n",
            "=== Hasil Operasi Aritmatika ===\n",
            "Penjumlahan      : 12 + 24 = 36\n",
            "Pengurangan      : 12 - 24 = -12\n",
            "Perkalian        : 12 * 24 = 288\n",
            "Pembagian        : 12 / 24 = 0.5\n",
            "Sisa Bagi (mod)  : 12 % 24 = 12\n",
            "Perpangkatan     : 12 ** 24 = 79496847203390844133441536\n",
            "\n"
          ]
        }
      ]
    },
    {
      "cell_type": "markdown",
      "source": [
        "# Penugasan 3 - Konversi Nilai"
      ],
      "metadata": {
        "id": "AlNkMhZg5CVT"
      }
    },
    {
      "cell_type": "code",
      "source": [
        "# Membaca input bilangan desimal\n",
        "nilai = float(input(\"Masukkan angka desimal: \"))\n",
        "\n",
        "# Menampilkan hasil konversi\n",
        "print(f\"\\n=== Hasil Konversi Nilai ===\")\n",
        "print(f\"Sebagai Integer : {int(nilai)}\")\n",
        "print(f\"Sebagai String  : '{str(nilai)}'\")\n",
        "print(f\"Dibulatkan (2 angka di belakang koma) : {round(nilai, 2)}\")\n",
        "print()"
      ],
      "metadata": {
        "colab": {
          "base_uri": "https://localhost:8080/"
        },
        "id": "nauL-Etz5cmP",
        "outputId": "bbd56da4-a3c9-4728-e23e-ca136210029a"
      },
      "execution_count": 8,
      "outputs": [
        {
          "output_type": "stream",
          "name": "stdout",
          "text": [
            "Masukkan angka desimal: 233.523\n",
            "\n",
            "=== Hasil Konversi Nilai ===\n",
            "Sebagai Integer : 233\n",
            "Sebagai String  : '233.523'\n",
            "Dibulatkan (2 angka di belakang koma) : 233.52\n",
            "\n"
          ]
        }
      ]
    },
    {
      "cell_type": "markdown",
      "source": [
        "# Penugasan 4 - Operator Relasional"
      ],
      "metadata": {
        "id": "qwx9NV-a5lSI"
      }
    },
    {
      "cell_type": "code",
      "source": [
        "# Membaca dua bilangan dari pengguna\n",
        "x = float(input(\"Masukkan bilangan pertama: \"))\n",
        "y = float(input(\"Masukkan bilangan kedua: \"))\n",
        "\n",
        "# Menampilkan hasil perbandingan\n",
        "print(f\"\\n=== Hasil Perbandingan ===\")\n",
        "print(f\"{x} == {y}  : {x == y}\")\n",
        "print(f\"{x} != {y}  : {x != y}\")\n",
        "print(f\"{x} <  {y}  : {x < y}\")\n",
        "print(f\"{x} >  {y}  : {x > y}\")\n",
        "print(f\"{x} <= {y}  : {x <= y}\")\n",
        "print(f\"{x} >= {y}  : {x >= y}\")\n",
        "print()"
      ],
      "metadata": {
        "colab": {
          "base_uri": "https://localhost:8080/"
        },
        "id": "7KKNzV-m5o19",
        "outputId": "86df8418-6953-407c-894c-7e5f8edc82d5"
      },
      "execution_count": 9,
      "outputs": [
        {
          "output_type": "stream",
          "name": "stdout",
          "text": [
            "Masukkan bilangan pertama: 12\n",
            "Masukkan bilangan kedua: 23\n",
            "\n",
            "=== Hasil Perbandingan ===\n",
            "12.0 == 23.0  : False\n",
            "12.0 != 23.0  : True\n",
            "12.0 <  23.0  : True\n",
            "12.0 >  23.0  : False\n",
            "12.0 <= 23.0  : True\n",
            "12.0 >= 23.0  : False\n",
            "\n"
          ]
        }
      ]
    }
  ]
}